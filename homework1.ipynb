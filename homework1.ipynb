{
  "cells": [
    {
      "cell_type": "markdown",
      "metadata": {
        "id": "m1dkS0VksGp7"
      },
      "source": [
        "# CIS 5200: Machine Learning\n",
        "## Homework 1"
      ]
    },
    {
      "cell_type": "code",
      "execution_count": 79,
      "metadata": {
        "colab": {
          "base_uri": "https://localhost:8080/"
        },
        "id": "QXZxyZDbr-Yx",
        "outputId": "75456620-d54c-450b-ca1a-c1a3afa2850e"
      },
      "outputs": [
        {
          "output_type": "stream",
          "name": "stdout",
          "text": [
            "[INFO, OK] Google Colab.\n"
          ]
        }
      ],
      "source": [
        "import os\n",
        "import sys\n",
        "\n",
        "# For autograder only, do not modify this cell.\n",
        "# True for Google Colab, False for autograder\n",
        "NOTEBOOK = (os.getenv('IS_AUTOGRADER') is None)\n",
        "if NOTEBOOK:\n",
        "    print(\"[INFO, OK] Google Colab.\")\n",
        "else:\n",
        "    print(\"[INFO, OK] Autograder.\")\n",
        "    sys.exit()"
      ]
    },
    {
      "cell_type": "markdown",
      "metadata": {
        "id": "swECpqQGvLu9"
      },
      "source": [
        "### Penngrader setup"
      ]
    },
    {
      "cell_type": "code",
      "execution_count": 80,
      "metadata": {
        "colab": {
          "base_uri": "https://localhost:8080/"
        },
        "id": "-peqcQNCvFSS",
        "outputId": "d6b67054-160b-4c0d-8457-b0a8b30066c1"
      },
      "outputs": [
        {
          "output_type": "stream",
          "name": "stdout",
          "text": [
            "Requirement already satisfied: penngrader-client in /usr/local/lib/python3.10/dist-packages (0.5.2)\n",
            "Requirement already satisfied: dill in /usr/local/lib/python3.10/dist-packages (from penngrader-client) (0.3.7)\n",
            "Requirement already satisfied: pyyaml in /usr/local/lib/python3.10/dist-packages (from penngrader-client) (6.0.1)\n"
          ]
        }
      ],
      "source": [
        "# %%capture\n",
        "!pip install penngrader-client"
      ]
    },
    {
      "cell_type": "code",
      "execution_count": 81,
      "metadata": {
        "colab": {
          "base_uri": "https://localhost:8080/"
        },
        "id": "9VOzgVapPgrZ",
        "outputId": "3b13833c-df65-4a89-ec0f-47dfd793ece4"
      },
      "outputs": [
        {
          "output_type": "stream",
          "name": "stdout",
          "text": [
            "Overwriting config.yaml\n"
          ]
        }
      ],
      "source": [
        "%%writefile config.yaml\n",
        "grader_api_url: 'https://23whrwph9h.execute-api.us-east-1.amazonaws.com/default/Grader23'\n",
        "grader_api_key: 'flfkE736fA6Z8GxMDJe2q8Kfk8UDqjsG3GVqOFOa'"
      ]
    },
    {
      "cell_type": "code",
      "execution_count": 82,
      "metadata": {
        "colab": {
          "base_uri": "https://localhost:8080/"
        },
        "id": "gSSxUlaHvsrK",
        "outputId": "0e8583b8-12ca-4c84-8d91-d7c06b8e02df"
      },
      "outputs": [
        {
          "output_type": "stream",
          "name": "stdout",
          "text": [
            "PennGrader initialized with Student ID: 61224048\n",
            "\n",
            "Make sure this correct or we will not be able to store your grade\n"
          ]
        }
      ],
      "source": [
        "from penngrader.grader import PennGrader\n",
        "\n",
        "# PLEASE ENSURE YOUR PENN-ID IS ENTERED CORRECTLY. IF NOT, THE AUTOGRADER WON'T KNOW WHO\n",
        "# TO ASSIGN POINTS TO YOU IN OUR BACKEND\n",
        "STUDENT_ID = 61224048 # YOUR PENN-ID GOES HERE AS AN INTEGER #\n",
        "SECRET = STUDENT_ID\n",
        "\n",
        "grader = PennGrader('config.yaml', 'CIS5200_FALL_2023_HW1', STUDENT_ID, SECRET)"
      ]
    },
    {
      "cell_type": "markdown",
      "metadata": {
        "id": "oAkrLz3rp4yM"
      },
      "source": [
        "# 1. Perceptron\n",
        "\n",
        "In this first problem, you will implement the perceptron algorithm. Since the algorithm requires linearly separate data and real data is usually noisy, we will have to use a synthetic example."
      ]
    },
    {
      "cell_type": "code",
      "execution_count": 83,
      "metadata": {
        "id": "vqKUxVIJoDZI",
        "tags": []
      },
      "outputs": [],
      "source": [
        "import torch\n",
        "\n",
        "# Data generation for perceptron problem\n",
        "torch.manual_seed(42) # set up a seed that can store the random list\n",
        "\n",
        "m,d = 10,2 # there are m samples, each sample with d features\n",
        "X_perceptron = torch.randn(m,d) # generate random data\n",
        "w_opt = torch.randn(d) # generate random optimal solution: w in R^d\n",
        "y_perceptron = torch.sign(X_perceptron.matmul(w_opt)) # generate solution-consistent labels: sign(w.t()@X)"
      ]
    },
    {
      "cell_type": "markdown",
      "metadata": {
        "id": "k_Ottsa3tXYj"
      },
      "source": [
        "We've given you a template for the perceptron algorithm. Calculate the following remaining functions:\n",
        "\n",
        "1. (3pts) Calculate the theoretical margin given the optimal linear classifier\n",
        "2. (3pts) Compute the condition for when the perceptron algorithm makes an update on a specific example\n",
        "3. (3pts) Compute the perceptron algorithm update to the weights when the update condition is satisfied\n",
        "\n",
        "You do not need to change `perceptron_algorithm`."
      ]
    },
    {
      "cell_type": "code",
      "execution_count": 84,
      "metadata": {
        "id": "d1Mflw1qtU6r",
        "tags": []
      },
      "outputs": [],
      "source": [
        "def perceptron_margin(X, w_opt):\n",
        "    # X := Tensor(float) of size (m,d) --- This is a batch of m examples of\n",
        "    #     of dimension d\n",
        "    #\n",
        "    # w_opt := Tensor(float) of size (d,) --- This is the ground truth linear\n",
        "    #     weights\n",
        "    #\n",
        "    # Return := Tensor(float) of size (1,) --- This is the theoretical margin\n",
        "    #\n",
        "    Margin_list = torch.abs(X@w_opt)\n",
        "    Margin = torch.min(Margin_list) / torch.abs(torch.norm(w_opt))\n",
        "    #raise NotImplementedError(\"TODO: Fill me in!\")\n",
        "    return Margin\n",
        "\n",
        "def perceptron_update_condition(xi, yi, w):\n",
        "    # xi := Tensor(float) of size (d,) --- This is a a single example of\n",
        "    #     of dimension d\n",
        "    #\n",
        "    # yi := Tensor(float) of size (1,) --- This is a single label for the\n",
        "    #     example xi\n",
        "    #\n",
        "    # w := Tensor(float) of size (d,) --- This is the current estimate of the\n",
        "    #     linear weights\n",
        "    #\n",
        "    # Return := Tensor(bool) of size (1,) --- This is true if the perceptron\n",
        "    #     algorithim will do an update on this example, and false otherwise\n",
        "    #\n",
        "    if (yi * (w.t()@xi) <= 0):\n",
        "      return torch.tensor([True])\n",
        "    else:\n",
        "      return torch.tensor([False])\n",
        "\n",
        "    #raise NotImplementedError(\"TODO: Fill me in!\")\n",
        "\n",
        "def perceptron_update_weight(xi, yi, w):\n",
        "    # xi := Tensor(float) of size (d,) --- This is a a single example of\n",
        "    #     of dimension d\n",
        "    #\n",
        "    # yi := Tensor(float) of size (1,) --- This is a single label for the\n",
        "    #     example xi\n",
        "    #\n",
        "    # w := Tensor(float) of size (d,) --- This is the current estimate of the\n",
        "    #     linear weights\n",
        "    #\n",
        "    # Return := Tensor(float) of size (d,) --- This is the updated linear\n",
        "    #     weights after performing the perceptron update\n",
        "    #\n",
        "    #raise NotImplementedError(\"TODO: Fill me in!\")\n",
        "    w_updated = w + yi*xi\n",
        "    return w_updated\n",
        "\n",
        "def perceptron_algorithm(X, y, niters=100):\n",
        "    m,d = X.size()\n",
        "    w = torch.zeros(d)\n",
        "    for t in range(niters):\n",
        "        weight_updated = False\n",
        "        for xi,yi in zip(X,y):\n",
        "            if perceptron_update_condition(xi, yi, w):\n",
        "                w = perceptron_update_weight(xi, yi, w)\n",
        "                weight_updated = True\n",
        "                continue\n",
        "        if not weight_updated:\n",
        "            return w,t"
      ]
    },
    {
      "cell_type": "markdown",
      "metadata": {
        "id": "XZajA_YLw9M-"
      },
      "source": [
        "Try running the perceptron algorithm. Does it terminate in fewer steps than the theoretical bound? Is the final classifier close to the ground truth?"
      ]
    },
    {
      "cell_type": "code",
      "execution_count": 85,
      "metadata": {
        "colab": {
          "base_uri": "https://localhost:8080/",
          "height": 482
        },
        "id": "6XoXjCMguEK6",
        "outputId": "fd5ec694-eaad-4181-8b9b-cf12c37ff0c2",
        "tags": []
      },
      "outputs": [
        {
          "output_type": "stream",
          "name": "stdout",
          "text": [
            "Accuracy: 1.00 in 1 rounds.\n",
            "Margin: 0.14. The perceptron algorithm is guaranteed to terminate in 53.92 rounds.\n"
          ]
        },
        {
          "output_type": "execute_result",
          "data": {
            "text/plain": [
              "<matplotlib.legend.Legend at 0x7bb64ffb7220>"
            ]
          },
          "metadata": {},
          "execution_count": 85
        },
        {
          "output_type": "display_data",
          "data": {
            "text/plain": [
              "<Figure size 640x480 with 1 Axes>"
            ],
            "image/png": "[encoded data removed]"
          },
          "metadata": {}
        }
      ],
      "source": [
        "import matplotlib\n",
        "%matplotlib inline\n",
        "import matplotlib.pyplot as plt\n",
        "\n",
        "# Test this out on the synthetic data\n",
        "w_perceptron,t = perceptron_algorithm(X_perceptron,y_perceptron)\n",
        "acc_perceptron = (torch.sign(X_perceptron.matmul(w_perceptron)) == y_perceptron).float().mean()\n",
        "\n",
        "print(f\"Accuracy: {acc_perceptron:.2f} in {t} rounds.\")\n",
        "\n",
        "margin = perceptron_margin(X_perceptron,w_opt)\n",
        "print(f\"Margin: {margin:.2f}. The perceptron algorithm is guaranteed to terminate in {1/(margin**2):.2f} rounds.\")\n",
        "\n",
        "# Plot the classifier. Is it close to the the ground truth?\n",
        "plt.scatter(X_perceptron[:,0], X_perceptron[:,1], c=y_perceptron)\n",
        "X_range = torch.linspace(-2,2, 50)\n",
        "plt.plot(X_range, -w_perceptron[0]/w_perceptron[1]*X_range) # estimated\n",
        "plt.plot(X_range, -w_opt[0]/w_opt[1]*X_range) # optimal\n",
        "plt.legend(['Perceptron Algorithm', 'Ground Truth'])"
      ]
    },
    {
      "cell_type": "markdown",
      "metadata": {
        "id": "sGyzcniWxRzi"
      },
      "source": [
        "### Autograder\n",
        "Check the following 3 test cases."
      ]
    },
    {
      "cell_type": "code",
      "execution_count": 86,
      "metadata": {
        "colab": {
          "base_uri": "https://localhost:8080/"
        },
        "id": "lpxvJmEluxVJ",
        "outputId": "fd87adfa-965b-4037-fb51-1957bf271744"
      },
      "outputs": [
        {
          "output_type": "stream",
          "name": "stdout",
          "text": [
            "Correct! You earned 3/3 points. You are a star!\n",
            "\n",
            "Your submission has been successfully recorded in the gradebook.\n",
            "Correct! You earned 3/3 points. You are a star!\n",
            "\n",
            "Your submission has been successfully recorded in the gradebook.\n",
            "Correct! You earned 3/3 points. You are a star!\n",
            "\n",
            "Your submission has been successfully recorded in the gradebook.\n"
          ]
        }
      ],
      "source": [
        "grader.grade(test_case_id = 'perceptron_margin', answer = perceptron_margin)\n",
        "grader.grade(test_case_id = 'perceptron_update_condition', answer = perceptron_update_condition)\n",
        "grader.grade(test_case_id = 'perceptron_update_weight', answer = perceptron_update_weight)"
      ]
    },
    {
      "cell_type": "markdown",
      "metadata": {
        "id": "LrnODutXJMc2"
      },
      "source": [
        "# 2. k-Nearest Neighbors\n",
        "\n",
        "In this problem, you'll implement the k nearest neighbors algorithm to solve a binary classification problem on handwritten digits."
      ]
    },
    {
      "cell_type": "markdown",
      "metadata": {
        "id": "07cBnaLxrBC9",
        "tags": []
      },
      "source": [
        "# Dataset: MNIST\n",
        "\n",
        "One of the earliest **big** successes of machine learning was in recognizing handwritten digits. This proved incredibly useful, for example, when automatically parsing zip codes from handwritten envelopes. Today, we'll load the MNIST database of handwritten digits and use it to solve a binary classification problem: predicting whether an image of a handwritten digit is of a $0$ or of an $8$."
      ]
    },
    {
      "cell_type": "code",
      "execution_count": 87,
      "metadata": {
        "id": "OxMFoDHQrAhj",
        "tags": []
      },
      "outputs": [],
      "source": [
        "import torchvision\n",
        "\n",
        "# Load the MNIST dataset\n",
        "mnist_train = torchvision.datasets.MNIST(\n",
        "    root='./data',\n",
        "    train=True,\n",
        "    download=True,\n",
        "    transform=torchvision.transforms.ToTensor()\n",
        ")\n",
        "\n",
        "train_x = mnist_train.data\n",
        "train_y = mnist_train.targets\n",
        "\n",
        "# MNIST contains digits of all different labels -- let's get just the 0 and 8 images.\n",
        "train_x = train_x[torch.logical_or(train_y == 0, train_y == 8)]\n",
        "train_y = train_y[torch.logical_or(train_y == 0, train_y == 8)]\n",
        "\n",
        "\n",
        "# Load the MNIST test dataset\n",
        "mnist_test = torchvision.datasets.MNIST(\n",
        "    root='./data',\n",
        "    train=False,\n",
        "    download=True,\n",
        "    transform=torchvision.transforms.ToTensor()\n",
        ")\n",
        "\n",
        "test_x = mnist_test.data\n",
        "test_y = mnist_test.targets\n",
        "\n",
        "# MNIST contains digits of all different labels -- let's get just the 0 and 8 images.\n",
        "test_x = test_x[torch.logical_or(test_y == 0, test_y == 8)]\n",
        "test_y = test_y[torch.logical_or(test_y == 0, test_y == 8)]"
      ]
    },
    {
      "cell_type": "markdown",
      "metadata": {
        "id": "22I8OR9rJMc3",
        "tags": []
      },
      "source": [
        "When we investigate the data a little bit, we find that we have a training set of 11774 images, each image is 28 x 28 and is greyscale. Let's print out the shape of `train_x`, and also plot some images using matplotlib"
      ]
    },
    {
      "cell_type": "code",
      "execution_count": 88,
      "metadata": {
        "id": "VRW21KyaJMc3",
        "tags": [],
        "colab": {
          "base_uri": "https://localhost:8080/",
          "height": 376
        },
        "outputId": "376f57c2-0ea8-47ad-f980-7b537f06e742"
      },
      "outputs": [
        {
          "output_type": "stream",
          "name": "stdout",
          "text": [
            "torch.Size([11774, 28, 28])\n"
          ]
        },
        {
          "output_type": "stream",
          "name": "stderr",
          "text": [
            "<ipython-input-88-9273d91672d1>:8: MatplotlibDeprecationWarning: Auto-removal of overlapping axes is deprecated since 3.6 and will be removed two minor releases later; explicitly call ax.remove() as needed.\n",
            "  plt.subplot(2, 5, i + 1)\n"
          ]
        },
        {
          "output_type": "display_data",
          "data": {
            "text/plain": [
              "<Figure size 640x480 with 10 Axes>"
            ],
            "image/png": "[encoded data removed]"
          },
          "metadata": {}
        }
      ],
      "source": [
        "from matplotlib import pyplot as plt\n",
        "\n",
        "print(train_x.shape)\n",
        "fig, ax = plt.subplots()\n",
        "\n",
        "# Plot 5 0's\n",
        "for i in range(5):\n",
        "    plt.subplot(2, 5, i + 1)\n",
        "    plt.imshow(train_x[train_y == 0][i], cmap='gray')\n",
        "    plt.tick_params(left=False, right=False, labelleft=False, bottom=False, labelbottom=False)\n",
        "\n",
        "# Plot 5 8's.\n",
        "for i in range(5, 10):\n",
        "    plt.subplot(2, 5, i + 1)\n",
        "    plt.imshow(train_x[train_y == 8][i], cmap='gray')\n",
        "    plt.tick_params(left=False, right=False, labelleft=False, bottom=False, labelbottom=False)\n"
      ]
    },
    {
      "cell_type": "markdown",
      "metadata": {
        "id": "fQY9XvePJMc3"
      },
      "source": [
        "Now, let's implement k Nearest Neighbors using simple Euclidean distance as our distance metric. We've given you a template for the actual algorithm, but you'll have to implement the guts of the algorithm yourself! Unfortunately, since\n",
        "being able to program in PyTorch while effectively using broadcasting and other matrix operations is really important if you want to do machine learning, you'll need to implement the distance computation yourself without using `torch.cdist` or other similar\n",
        "functions."
      ]
    },
    {
      "cell_type": "code",
      "execution_count": 89,
      "metadata": {
        "id": "j1RaPvA6JMc3",
        "tags": []
      },
      "outputs": [],
      "source": [
        "def knn_distance_matrix(test_x, train_x):\n",
        "    \"\"\"\n",
        "    Given a set of testing and training data, compute a matrix of distances between all test points and all training points.\n",
        "\n",
        "    Args:\n",
        "        test_x (m x d tensor): Testing data that we want to make predictions for.\n",
        "        train_x (n x d tensor): Training data that we'll use for making classifications.\n",
        "\n",
        "    Returns:\n",
        "        dist_mat (m x n tensor): a matrix D so that D_ij is the distance between the ith test point and the jth training point.\n",
        "\n",
        "    Hints:\n",
        "        - You may find it helpful to know that the **squared** Euclidean distance between two vectors x and z, ||x - z||^2, can be computed as (x - z)'(x - z) = x'x - 2*x'z + z'z.\n",
        "          This formulation is much easier to implement using simple matrix multiplication, elementwise products, and broadcasting.\n",
        "        - Implementing this function without for loops will be the trickiest part of implementing the algorithm.\n",
        "    \"\"\"\n",
        "    #raise NotImplementedError(\"TODO: Fill me in!\")\n",
        "    test_square = (test_x ** 2).sum(dim=1)  # mx1\n",
        "    train_square = (train_x ** 2).sum(dim=1)  # nx1\n",
        "    mid_term = test_x @ train_x.t()  # mxn\n",
        "\n",
        "    dists_squared = test_square.unsqueeze(1) - 2 * mid_term + train_square.unsqueeze(0)\n",
        "    dist_mat = torch.sqrt(torch.clamp(dists_squared, min=0))  # Take the sqrt, but also ensure no negative values due to floating point errors, 控制取值范围\n",
        "    return dist_mat\n",
        "\n",
        "def knn_find_k_nearest_neighbors(D, k):\n",
        "    \"\"\"\n",
        "    Given a distance matrix between test and train points, find the k nearest neighbors from the training points for each test point.\n",
        "\n",
        "    Args:\n",
        "        D (m x n tensor): a matrix D so that D_ij is the distance between the ith test point and jth training point (e.g., each *row* corresponds to a test point).\n",
        "        k (int): How many nearest neighbors to find\n",
        "\n",
        "    Returns:\n",
        "        knn_inds (m x k tensor): For each test point, the indices of the k nearest neighbors in the training data. In other words, if knn_inds[i, j] = q, then (train_x[q], train_y[q]) is one of the k nearest neighbors to test_x[i].\n",
        "\n",
        "    Hints:\n",
        "        - This time, you can get some help from real functions in PyTorch. In particular, you may find the torch.topk function useful (https://pytorch.org/docs/stable/generated/torch.topk.html).\n",
        "        - This function can be implemented in as little as 1 (relatively short) line of code. If you find yourself struggling, you're probably not using torch.topk as well as you should.\n",
        "    \"\"\"\n",
        "    #raise NotImplementedError(\"TODO: Fill me in!\")\n",
        "    knn_values, knn_indices = torch.topk(D,k,dim=1,largest=False)\n",
        "    return knn_indices\n",
        "\n",
        "def knn_predict(train_y, knn_inds):\n",
        "    \"\"\"\n",
        "    Given an m x k set of indices of nearest neighbors for each test point, use the training labels and these indices to make a final prediction for each test point.\n",
        "\n",
        "    Args:\n",
        "        train_y (n vector): Labels of the training data points\n",
        "        knn_inds (m x k tensor): For each test point, the indices of the k nearest neighbors in the training data. In other words, if knn_inds[i, j] = q, then (train_x[q], train_y[q]) is one of the k nearest neighbors to test_x[i].\n",
        "\n",
        "    Returns:\n",
        "        predictions (m vector): A prediction of the label for each test point.\n",
        "\n",
        "    Hints:\n",
        "        - Suppose x is a vector with at least 6 entries and ix is a 2x3 matrix with entries [[0,2,4],[1,3,5]], then x[ix] will return a 2x3 matrix with entries [[x[0], x[2], x[4]],[x[1],x[3],x[5]]].\n",
        "        - torch.mode (https://pytorch.org/docs/stable/generated/torch.mode.html) will be a pretty helpful function here.\n",
        "    \"\"\"\n",
        "    #raise NotImplementedError(\"TODO: Fill me in!\")\n",
        "    knn_ys = train_y[knn_inds]\n",
        "    y_predict,_ = knn_ys.mode(dim=1)\n",
        "    return y_predict\n",
        "def knn_algorithm(test_x, train_x, train_y, k=3):\n",
        "    \"\"\"\n",
        "    Put it all together!\n",
        "\n",
        "    Args:\n",
        "        test_x (m x d tensor): Test points to make predictions for\n",
        "        train_x (n x d tensor): Training data to use for making predictions.\n",
        "        train_y (n, tensor): Training labels to use for making predictions.\n",
        "        k (int): k to use in k nearest neighbors\n",
        "\n",
        "    Returns:\n",
        "        predictions (m, tensor): Predicted label for each test point.\n",
        "    \"\"\"\n",
        "    # First, flatten the 28x28 images into 784 dimensional vectors. We'll also divide by 255 so that the feature values\n",
        "    # are in [0,1] instead of [0, 255]. This is important because otherwise the distances will be so large that we'll have\n",
        "    # floating point error problems!\n",
        "\n",
        "    train_x_flat = train_x.view(train_x.size(-3), -1).float() / 255.\n",
        "    test_x_flat = test_x.view(test_x.size(-3), -1).float() / 255.\n",
        "\n",
        "    D = knn_distance_matrix(test_x_flat, train_x_flat)\n",
        "    # knn_inds = knn_find_k_nearest_neighbors(D, k)\n",
        "    # predictions = knn_predict(train_y, knn_inds)\n",
        "    predictions = train_y[torch.topk(D, k=3, dim=-1, largest=False).indices].mode(dim=-1).values\n",
        "    return predictions\n",
        "\n"
      ]
    },
    {
      "cell_type": "code",
      "execution_count": 90,
      "metadata": {
        "id": "byr7zBCKJMc3",
        "tags": [],
        "colab": {
          "base_uri": "https://localhost:8080/"
        },
        "outputId": "51910551-9f6b-4705-c633-6cbdc16562cc"
      },
      "outputs": [
        {
          "output_type": "stream",
          "name": "stdout",
          "text": [
            "You achieved a test accuracy of: 99.44%\n"
          ]
        }
      ],
      "source": [
        "predictions = knn_algorithm(test_x, train_x, train_y, k=3)\n",
        "print(f\"You achieved a test accuracy of: {100 * (predictions == test_y).float().mean():.2f}%\")"
      ]
    },
    {
      "cell_type": "code",
      "execution_count": 91,
      "metadata": {
        "id": "svz8qg1XJMc3",
        "tags": [],
        "colab": {
          "base_uri": "https://localhost:8080/",
          "height": 110
        },
        "outputId": "081c854b-b28a-42df-f66d-884148f6b77b"
      },
      "outputs": [
        {
          "output_type": "stream",
          "name": "stdout",
          "text": [
            "The labels of the mistaken images are:  [8, 8, 8, 8, 8, 8, 8, 8, 8, 0, 0]\n",
            "And here are the images...\n"
          ]
        },
        {
          "output_type": "display_data",
          "data": {
            "text/plain": [
              "<Figure size 640x480 with 11 Axes>"
            ],
            "image/png": "[encoded data removed]"
          },
          "metadata": {}
        }
      ],
      "source": [
        "from matplotlib import pyplot as plt\n",
        "\n",
        "mistake_indices = torch.where(~(predictions == test_y))[0]\n",
        "print(\"The labels of the mistaken images are: \", test_y[mistake_indices].tolist())\n",
        "print(\"And here are the images...\")\n",
        "for ix, mistake_ind in enumerate(mistake_indices):\n",
        "    plt.subplot(1, len(mistake_indices), ix + 1)\n",
        "    plt.imshow(test_x[ix], cmap='gray')\n",
        "    plt.tick_params(left=False, right=False, labelleft=False, bottom=False, labelbottom=False)"
      ]
    },
    {
      "cell_type": "markdown",
      "metadata": {
        "id": "js0UuQozJjbR"
      },
      "source": [
        "## Autograder for k-NN"
      ]
    },
    {
      "cell_type": "code",
      "execution_count": 92,
      "metadata": {
        "id": "rsgi8G7kJMc3",
        "tags": [],
        "colab": {
          "base_uri": "https://localhost:8080/"
        },
        "outputId": "fa6b1950-c509-4a8a-cac0-ff5ffb4ac317"
      },
      "outputs": [
        {
          "output_type": "stream",
          "name": "stdout",
          "text": [
            "Correct! You earned 3/3 points. You are a star!\n",
            "\n",
            "Your submission has been successfully recorded in the gradebook.\n",
            "Correct! You earned 3/3 points. You are a star!\n",
            "\n",
            "Your submission has been successfully recorded in the gradebook.\n",
            "Correct! You earned 1/1 points. You are a star!\n",
            "\n",
            "Your submission has been successfully recorded in the gradebook.\n"
          ]
        }
      ],
      "source": [
        "grader.grade(test_case_id = 'knn_distance_matrix', answer = knn_distance_matrix)\n",
        "grader.grade(test_case_id = 'knn_find_k_nearest_neighbors', answer = knn_find_k_nearest_neighbors)\n",
        "grader.grade(test_case_id = 'knn_predict', answer = knn_predict)"
      ]
    }
  ],
  "metadata": {
    "colab": {
      "provenance": []
    },
    "kernelspec": {
      "display_name": "Python 3 (ipykernel)",
      "language": "python",
      "name": "python3"
    },
    "language_info": {
      "codemirror_mode": {
        "name": "ipython",
        "version": 3
      },
      "file_extension": ".py",
      "mimetype": "text/x-python",
      "name": "python",
      "nbconvert_exporter": "python",
      "pygments_lexer": "ipython3",
      "version": "3.11.4"
    },
    "vscode": {
      "interpreter": {
        "hash": "aee8b7b246df8f9039afb4144a1f6fd8d2ca17a180786b69acc140d282b71a49"
      }
    }
  },
  "nbformat": 4,
  "nbformat_minor": 0
}